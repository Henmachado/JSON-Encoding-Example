{
 "cells": [
  {
   "cell_type": "code",
   "execution_count": 232,
   "id": "1ff92b23-8c6f-4c9f-b51b-e87c9163da6f",
   "metadata": {},
   "outputs": [],
   "source": [
    "from dataclasses import dataclass\n",
    "from jsonschema import validate\n",
    "\n",
    "import logging\n",
    "import json\n",
    "import requests\n",
    "\n",
    "logger = logging.getLogger(__name__)\n",
    "logger.setLevel(logging.INFO)"
   ]
  },
  {
   "cell_type": "code",
   "execution_count": 233,
   "id": "1965be9d-a3bc-48be-8dbf-e0753ba84db6",
   "metadata": {},
   "outputs": [
    {
     "name": "stderr",
     "output_type": "stream",
     "text": [
      "INFO:__main__:Validating received JSON...........1/4\n",
      "INFO:__main__:Getting selected keys..............2/4\n",
      "INFO:__main__:{\n",
      "    \"login\": \"Henmachado\",\n",
      "    \"site_admin\": false,\n",
      "    \"repos_url\": \"https://api.github.com/users/Henmachado/repos\",\n",
      "    \"node_id\": \"MDQ6VXNlcjQxNDU2OTcy\"\n",
      "}\n",
      "INFO:__main__:JSON Parsed Successfully...........3/4\n",
      "INFO:__main__:JSON Decoded to Developer object...4/4\n",
      "INFO:__main__:--------------------------------------\n",
      "INFO:__main__:User Henmachado has 2 Python public projects\n"
     ]
    }
   ],
   "source": [
    "@dataclass\n",
    "class Developer:\n",
    "    login: str\n",
    "    site_admin: bool\n",
    "    repos_url: str\n",
    "    node_id: str\n",
    "    \n",
    "expected_schema = {\n",
    "    \"required\": [\"repos_url\"],\n",
    "    \"properties\": {\n",
    "        \"login\": {\"type\": \"string\"},\n",
    "        \"site_admin\": {\"type\": \"boolean\"},\n",
    "        \"repos_url\": {\"type\": \"string\"},\n",
    "        \"node_id\": {\"type\": \"string\"},\n",
    "    }\n",
    "}\n",
    "\n",
    "\n",
    "def get_filtered_dict_from_keys(selected_keys: List[str], data: dict) -> dict:\n",
    "    return dict(\n",
    "        zip(selected_keys, [user_data.get(value) for value in selected_keys])\n",
    "    )\n",
    "\n",
    "def main() -> None:\n",
    "    r = requests.get(\"https://api.github.com/users/henmachado\")\n",
    "\n",
    "    if r.status_code == 200:\n",
    "        try:\n",
    "            user_data = r.json()\n",
    "\n",
    "            logger.info('Validating received JSON...........1/4')\n",
    "            validate(user_data, expected_schema)\n",
    "            \n",
    "        except ValidationError as ve:\n",
    "            logger.info(\"------------Invalid JSON--------------\")\n",
    "            logger.info(repr(ve))\n",
    "            raise\n",
    "\n",
    "        logger.info('Getting selected keys..............2/4')\n",
    "        selected_keys = ['login', 'site_admin', 'repos_url', \"node_id\"]\n",
    "        filtered_user_data = get_filtered_dict_from_keys(selected_keys, user_data)\n",
    "        logger.info(json.dumps(filtered_user_data, indent=4))\n",
    "        logger.info('JSON Parsed Successfully...........3/4')\n",
    "\n",
    "        developer = Developer(**filtered_user_data)\n",
    "        logger.info('JSON Decoded to Developer object...4/4')\n",
    "        logger.info('--------------------------------------')\n",
    "        \n",
    "        repos = requests.get(developer.repos_url).json()\n",
    "        python_repos = len(\n",
    "            [repo.get(\"language\") for repo in repos if repo.get(\"language\") == \"Python\"]\n",
    "        )\n",
    "        \n",
    "        logger.info(f'User {developer.login} has {str(python_repos)} Python public projects')\n",
    "\n",
    "    else:\n",
    "        logger.info(f'Request Failed: {str(r.status_code)}')\n",
    "        logger.info(r.text)\n",
    "    \n",
    "\n",
    "if __name__ == \"__main__\":\n",
    "    main()\n",
    "\n"
   ]
  }
 ],
 "metadata": {
  "kernelspec": {
   "display_name": "Python 3 (ipykernel)",
   "language": "python",
   "name": "python3"
  },
  "language_info": {
   "codemirror_mode": {
    "name": "ipython",
    "version": 3
   },
   "file_extension": ".py",
   "mimetype": "text/x-python",
   "name": "python",
   "nbconvert_exporter": "python",
   "pygments_lexer": "ipython3",
   "version": "3.9.13"
  }
 },
 "nbformat": 4,
 "nbformat_minor": 5
}
